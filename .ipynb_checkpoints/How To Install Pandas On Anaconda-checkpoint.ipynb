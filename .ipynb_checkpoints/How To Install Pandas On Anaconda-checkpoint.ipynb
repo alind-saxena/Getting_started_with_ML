{
 "cells": [
  {
   "cell_type": "markdown",
   "metadata": {},
   "source": [
    "#### Steps:\n",
    "- Google - `anaconda install pandas`\n",
    "- Go to https://anaconda.org/anaconda/pandas - Official Anaconda Page\n",
    "- Navigate and copy Conda install command for pandas - `conda install -c anaconda pandas`\n",
    "- Open Anaconda Prompt\n",
    "- Use the conda command to install Pandas"
   ]
  }
 ],
 "metadata": {
  "kernelspec": {
   "display_name": "Python 3",
   "language": "python",
   "name": "python3"
  },
  "language_info": {
   "codemirror_mode": {
    "name": "ipython",
    "version": 3
   },
   "file_extension": ".py",
   "mimetype": "text/x-python",
   "name": "python",
   "nbconvert_exporter": "python",
   "pygments_lexer": "ipython3",
   "version": "3.7.6"
  }
 },
 "nbformat": 4,
 "nbformat_minor": 4
}
