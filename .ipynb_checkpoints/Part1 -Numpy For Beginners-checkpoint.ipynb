{
 "cells": [
  {
   "cell_type": "markdown",
   "metadata": {},
   "source": [
    "# NumPy - Numerical Python"
   ]
  },
  {
   "cell_type": "markdown",
   "metadata": {},
   "source": [
    "##### NumPy is a library for the Python programming language, adding support for large, multi-dimensional arrays and matrices, along with a large collection of high-level mathematical functions to operate on these arrays."
   ]
  },
  {
   "cell_type": "markdown",
   "metadata": {},
   "source": [
    "## Import Numpy"
   ]
  },
  {
   "cell_type": "code",
   "execution_count": 1,
   "metadata": {},
   "outputs": [],
   "source": [
    "import numpy as np"
   ]
  },
  {
   "cell_type": "code",
   "execution_count": 2,
   "metadata": {},
   "outputs": [
    {
     "data": {
      "text/plain": [
       "'1.18.1'"
      ]
     },
     "execution_count": 2,
     "metadata": {},
     "output_type": "execute_result"
    }
   ],
   "source": [
    "np.__version__"
   ]
  },
  {
   "cell_type": "code",
   "execution_count": null,
   "metadata": {},
   "outputs": [],
   "source": [
    "!pip install numpy==1.18.1 #OR\n",
    "!pip install numpy>=1.11.1 #OR\n",
    "!pip install upgrade numpy #upgrade to latest numpy version "
   ]
  },
  {
   "cell_type": "code",
   "execution_count": 3,
   "metadata": {},
   "outputs": [
    {
     "name": "stdout",
     "output_type": "stream",
     "text": [
      "Requirement already satisfied: numpy==1.18.1 in c:\\users\\alind_wgx\\anaconda3\\lib\\site-packages (1.18.1)\n"
     ]
    }
   ],
   "source": [
    "# EXAMPLE\n",
    "!pip install numpy==1.18.1"
   ]
  },
  {
   "cell_type": "markdown",
   "metadata": {},
   "source": [
    "## Basics of Numpy Array"
   ]
  },
  {
   "cell_type": "markdown",
   "metadata": {},
   "source": [
    "#### Creating an Array"
   ]
  },
  {
   "cell_type": "code",
   "execution_count": 5,
   "metadata": {},
   "outputs": [
    {
     "data": {
      "text/plain": [
       "array([1, 2, 3, 4, 5])"
      ]
     },
     "execution_count": 5,
     "metadata": {},
     "output_type": "execute_result"
    }
   ],
   "source": [
    "A1 = np.array([1,2,3,4,5]) # 1-d Array\n",
    "A1"
   ]
  },
  {
   "cell_type": "code",
   "execution_count": 7,
   "metadata": {},
   "outputs": [
    {
     "data": {
      "text/plain": [
       "array([[ 2,  4,  6],\n",
       "       [ 8, 10, 12]])"
      ]
     },
     "execution_count": 7,
     "metadata": {},
     "output_type": "execute_result"
    }
   ],
   "source": [
    "A2 = np.array([[2,4,6],     #2-d Array\n",
    "              [8,10,12]])\n",
    "A2"
   ]
  },
  {
   "cell_type": "code",
   "execution_count": 8,
   "metadata": {},
   "outputs": [
    {
     "data": {
      "text/plain": [
       "array([[[ 1,  2,  3],\n",
       "        [ 4,  5,  6]],\n",
       "\n",
       "       [[11, 12, 13],\n",
       "        [14, 15, 16]]])"
      ]
     },
     "execution_count": 8,
     "metadata": {},
     "output_type": "execute_result"
    }
   ],
   "source": [
    "A3 = np.array([[[1,2,3],[4,5,6]], #3-d Array\n",
    "              [[11,12,13],[14,15,16]]])\n",
    "A3"
   ]
  },
  {
   "cell_type": "code",
   "execution_count": 9,
   "metadata": {},
   "outputs": [
    {
     "name": "stdout",
     "output_type": "stream",
     "text": [
      "A3 ndim:  3\n",
      "A3 shape: (2, 2, 3)\n",
      "A3 size:  12\n"
     ]
    }
   ],
   "source": [
    "print(\"A3 ndim: \", A3.ndim)\n",
    "print(\"A3 shape:\", A3.shape)\n",
    "print(\"A3 size: \", A3.size)"
   ]
  },
  {
   "cell_type": "code",
   "execution_count": 13,
   "metadata": {},
   "outputs": [],
   "source": [
    "#Seed for reproducibility\n",
    "#Seed makes sure that same random numbers are generated each time we run the code.\n",
    "np.random.seed(100)"
   ]
  },
  {
   "cell_type": "code",
   "execution_count": 14,
   "metadata": {},
   "outputs": [
    {
     "data": {
      "text/plain": [
       "array([8, 8, 3, 7, 7])"
      ]
     },
     "execution_count": 14,
     "metadata": {},
     "output_type": "execute_result"
    }
   ],
   "source": [
    "# Generating Random int n-d Array\n",
    "k1 = np.random.randint(10, size = (5)) #1-d Array\n",
    "k1"
   ]
  },
  {
   "cell_type": "code",
   "execution_count": 15,
   "metadata": {},
   "outputs": [
    {
     "data": {
      "text/plain": [
       "array([[0, 4, 2],\n",
       "       [5, 2, 2],\n",
       "       [2, 1, 0],\n",
       "       [8, 4, 0],\n",
       "       [9, 6, 2]])"
      ]
     },
     "execution_count": 15,
     "metadata": {},
     "output_type": "execute_result"
    }
   ],
   "source": [
    "k2 = np.random.randint(10, size = (5,3)) #2-d Array\n",
    "k2"
   ]
  },
  {
   "cell_type": "code",
   "execution_count": 16,
   "metadata": {},
   "outputs": [
    {
     "data": {
      "text/plain": [
       "array([[[4, 1],\n",
       "        [5, 3],\n",
       "        [4, 4]],\n",
       "\n",
       "       [[3, 7],\n",
       "        [1, 1],\n",
       "        [7, 7]],\n",
       "\n",
       "       [[0, 2],\n",
       "        [9, 9],\n",
       "        [3, 2]],\n",
       "\n",
       "       [[5, 8],\n",
       "        [1, 0],\n",
       "        [7, 6]]])"
      ]
     },
     "execution_count": 16,
     "metadata": {},
     "output_type": "execute_result"
    }
   ],
   "source": [
    "k3 = np.random.randint(10, size = (4,3,2)) #3-d Array\n",
    "k3"
   ]
  },
  {
   "cell_type": "code",
   "execution_count": 17,
   "metadata": {},
   "outputs": [
    {
     "data": {
      "text/plain": [
       "array([[[[[[2, 0, 8, 2, 5],\n",
       "           [1, 8, 1, 5, 4],\n",
       "           [2, 8, 3, 5, 0],\n",
       "           [9, 3, 6, 3, 4]],\n",
       "\n",
       "          [[7, 6, 3, 9, 0],\n",
       "           [4, 4, 5, 7, 6],\n",
       "           [6, 2, 4, 2, 7],\n",
       "           [1, 6, 6, 0, 7]]],\n",
       "\n",
       "\n",
       "         [[[2, 3, 5, 4, 2],\n",
       "           [4, 3, 7, 9, 0],\n",
       "           [0, 5, 9, 6, 6],\n",
       "           [5, 6, 4, 7, 3]],\n",
       "\n",
       "          [[9, 2, 3, 8, 7],\n",
       "           [1, 5, 9, 3, 0],\n",
       "           [6, 2, 3, 4, 8],\n",
       "           [9, 8, 5, 2, 7]]]],\n",
       "\n",
       "\n",
       "\n",
       "        [[[[5, 9, 0, 9, 8],\n",
       "           [6, 2, 0, 5, 3],\n",
       "           [2, 3, 6, 4, 1],\n",
       "           [3, 1, 4, 8, 8]],\n",
       "\n",
       "          [[2, 2, 7, 2, 1],\n",
       "           [2, 7, 1, 0, 5],\n",
       "           [3, 5, 2, 6, 1],\n",
       "           [1, 5, 9, 2, 5]]],\n",
       "\n",
       "\n",
       "         [[[6, 4, 6, 7, 9],\n",
       "           [7, 3, 0, 2, 5],\n",
       "           [1, 1, 0, 3, 6],\n",
       "           [7, 3, 6, 4, 8]],\n",
       "\n",
       "          [[6, 5, 0, 0, 5],\n",
       "           [1, 3, 2, 3, 1],\n",
       "           [0, 6, 5, 2, 0],\n",
       "           [0, 9, 1, 5, 2]]]],\n",
       "\n",
       "\n",
       "\n",
       "        [[[[3, 6, 1, 4, 3],\n",
       "           [1, 4, 4, 9, 5],\n",
       "           [6, 3, 4, 3, 7],\n",
       "           [7, 2, 4, 0, 2]],\n",
       "\n",
       "          [[0, 6, 8, 1, 5],\n",
       "           [6, 4, 6, 5, 0],\n",
       "           [8, 8, 5, 9, 3],\n",
       "           [2, 8, 7, 1, 4]]],\n",
       "\n",
       "\n",
       "         [[[6, 0, 7, 3, 9],\n",
       "           [1, 2, 7, 7, 6],\n",
       "           [4, 3, 3, 3, 4],\n",
       "           [7, 7, 4, 1, 1]],\n",
       "\n",
       "          [[8, 7, 8, 8, 8],\n",
       "           [7, 9, 0, 6, 0],\n",
       "           [7, 4, 5, 1, 5],\n",
       "           [5, 3, 4, 3, 6]]]]],\n",
       "\n",
       "\n",
       "\n",
       "\n",
       "       [[[[[5, 0, 0, 6, 1],\n",
       "           [9, 8, 0, 3, 9],\n",
       "           [2, 6, 5, 4, 5],\n",
       "           [7, 3, 0, 7, 8]],\n",
       "\n",
       "          [[2, 0, 5, 0, 9],\n",
       "           [2, 1, 6, 0, 3],\n",
       "           [7, 3, 9, 5, 2],\n",
       "           [0, 9, 3, 6, 2]]],\n",
       "\n",
       "\n",
       "         [[[4, 1, 8, 5, 1],\n",
       "           [4, 7, 6, 5, 8],\n",
       "           [3, 5, 0, 9, 1],\n",
       "           [4, 3, 1, 0, 6]],\n",
       "\n",
       "          [[9, 9, 6, 6, 3],\n",
       "           [3, 3, 7, 2, 4],\n",
       "           [9, 2, 7, 1, 2],\n",
       "           [8, 3, 2, 9, 2]]]],\n",
       "\n",
       "\n",
       "\n",
       "        [[[[3, 2, 7, 0, 6],\n",
       "           [9, 8, 2, 1, 1],\n",
       "           [2, 2, 6, 2, 4],\n",
       "           [5, 1, 7, 5, 4]],\n",
       "\n",
       "          [[0, 1, 5, 9, 0],\n",
       "           [1, 0, 4, 3, 2],\n",
       "           [7, 6, 3, 7, 2],\n",
       "           [7, 8, 5, 1, 9]]],\n",
       "\n",
       "\n",
       "         [[[6, 0, 9, 9, 2],\n",
       "           [5, 2, 7, 1, 1],\n",
       "           [7, 8, 1, 8, 2],\n",
       "           [9, 9, 2, 0, 3]],\n",
       "\n",
       "          [[7, 4, 7, 2, 0],\n",
       "           [1, 3, 4, 9, 6],\n",
       "           [5, 4, 0, 5, 9],\n",
       "           [5, 3, 0, 0, 8]]]],\n",
       "\n",
       "\n",
       "\n",
       "        [[[[6, 8, 8, 6, 6],\n",
       "           [1, 1, 7, 8, 5],\n",
       "           [0, 8, 1, 5, 1],\n",
       "           [7, 1, 2, 6, 5]],\n",
       "\n",
       "          [[7, 4, 7, 2, 3],\n",
       "           [6, 2, 2, 4, 3],\n",
       "           [5, 9, 1, 5, 1],\n",
       "           [3, 7, 3, 5, 5]]],\n",
       "\n",
       "\n",
       "         [[[0, 9, 4, 7, 2],\n",
       "           [3, 1, 5, 9, 5],\n",
       "           [6, 0, 2, 2, 3],\n",
       "           [4, 9, 9, 5, 9]],\n",
       "\n",
       "          [[5, 6, 1, 8, 7],\n",
       "           [5, 4, 0, 7, 2],\n",
       "           [4, 8, 2, 0, 2],\n",
       "           [5, 7, 3, 9, 7]]]]],\n",
       "\n",
       "\n",
       "\n",
       "\n",
       "       [[[[[8, 0, 6, 8, 8],\n",
       "           [2, 7, 6, 3, 7],\n",
       "           [4, 3, 2, 9, 6],\n",
       "           [9, 6, 7, 2, 4]],\n",
       "\n",
       "          [[3, 7, 0, 1, 2],\n",
       "           [4, 0, 3, 8, 3],\n",
       "           [4, 5, 8, 2, 7],\n",
       "           [4, 6, 3, 6, 3]]],\n",
       "\n",
       "\n",
       "         [[[1, 2, 4, 3, 0],\n",
       "           [6, 9, 7, 7, 3],\n",
       "           [2, 6, 1, 0, 6],\n",
       "           [8, 3, 4, 0, 5]],\n",
       "\n",
       "          [[1, 3, 0, 6, 0],\n",
       "           [8, 0, 7, 6, 8],\n",
       "           [9, 2, 0, 6, 5],\n",
       "           [4, 1, 5, 5, 4]]]],\n",
       "\n",
       "\n",
       "\n",
       "        [[[[4, 4, 2, 7, 1],\n",
       "           [9, 3, 3, 6, 8],\n",
       "           [5, 1, 1, 1, 6],\n",
       "           [6, 9, 9, 3, 3]],\n",
       "\n",
       "          [[1, 5, 2, 6, 7],\n",
       "           [5, 6, 3, 8, 8],\n",
       "           [3, 4, 2, 7, 5],\n",
       "           [0, 0, 0, 1, 1]]],\n",
       "\n",
       "\n",
       "         [[[1, 4, 4, 1, 9],\n",
       "           [0, 7, 1, 7, 1],\n",
       "           [3, 9, 9, 3, 5],\n",
       "           [4, 6, 3, 0, 3]],\n",
       "\n",
       "          [[5, 0, 0, 4, 4],\n",
       "           [3, 4, 7, 8, 3],\n",
       "           [2, 6, 1, 8, 7],\n",
       "           [1, 0, 8, 9, 3]]]],\n",
       "\n",
       "\n",
       "\n",
       "        [[[[9, 9, 7, 6, 4],\n",
       "           [9, 6, 6, 9, 2],\n",
       "           [1, 7, 6, 4, 7],\n",
       "           [8, 1, 6, 9, 7]],\n",
       "\n",
       "          [[0, 4, 2, 8, 8],\n",
       "           [8, 4, 5, 9, 8],\n",
       "           [8, 7, 2, 9, 8],\n",
       "           [2, 7, 1, 9, 6]]],\n",
       "\n",
       "\n",
       "         [[[1, 6, 8, 7, 1],\n",
       "           [6, 5, 5, 2, 0],\n",
       "           [9, 3, 4, 7, 4],\n",
       "           [7, 9, 4, 2, 0]],\n",
       "\n",
       "          [[7, 3, 9, 0, 7],\n",
       "           [9, 3, 6, 7, 0],\n",
       "           [6, 8, 4, 9, 7],\n",
       "           [1, 3, 9, 4, 6]]]]],\n",
       "\n",
       "\n",
       "\n",
       "\n",
       "       [[[[[1, 4, 2, 5, 3],\n",
       "           [5, 4, 1, 6, 8],\n",
       "           [7, 8, 5, 9, 0],\n",
       "           [6, 0, 5, 9, 3]],\n",
       "\n",
       "          [[7, 6, 9, 5, 4],\n",
       "           [7, 4, 7, 9, 2],\n",
       "           [1, 4, 0, 2, 4],\n",
       "           [0, 4, 2, 6, 9]]],\n",
       "\n",
       "\n",
       "         [[[7, 3, 5, 4, 4],\n",
       "           [3, 1, 1, 3, 3],\n",
       "           [8, 2, 2, 3, 0],\n",
       "           [4, 5, 4, 9, 4]],\n",
       "\n",
       "          [[1, 8, 8, 0, 5],\n",
       "           [0, 3, 0, 6, 4],\n",
       "           [0, 8, 5, 3, 8],\n",
       "           [6, 2, 2, 8, 6]]]],\n",
       "\n",
       "\n",
       "\n",
       "        [[[[7, 1, 1, 2, 4],\n",
       "           [2, 3, 2, 9, 6],\n",
       "           [4, 8, 6, 9, 5],\n",
       "           [2, 0, 7, 5, 0]],\n",
       "\n",
       "          [[8, 4, 1, 1, 0],\n",
       "           [7, 7, 5, 8, 5],\n",
       "           [6, 1, 3, 6, 3],\n",
       "           [0, 4, 8, 1, 8]]],\n",
       "\n",
       "\n",
       "         [[[4, 8, 0, 5, 1],\n",
       "           [3, 4, 4, 9, 0],\n",
       "           [6, 0, 7, 2, 6],\n",
       "           [8, 5, 4, 4, 1]],\n",
       "\n",
       "          [[3, 2, 7, 1, 8],\n",
       "           [9, 0, 4, 7, 2],\n",
       "           [5, 3, 6, 4, 4],\n",
       "           [0, 9, 0, 9, 9]]]],\n",
       "\n",
       "\n",
       "\n",
       "        [[[[1, 3, 3, 3, 9],\n",
       "           [7, 4, 5, 7, 1],\n",
       "           [3, 8, 3, 6, 8],\n",
       "           [4, 8, 1, 8, 8]],\n",
       "\n",
       "          [[4, 5, 7, 6, 0],\n",
       "           [5, 3, 3, 7, 3],\n",
       "           [8, 7, 9, 9, 0],\n",
       "           [2, 4, 1, 1, 5]]],\n",
       "\n",
       "\n",
       "         [[[0, 6, 3, 3, 7],\n",
       "           [5, 8, 8, 6, 2],\n",
       "           [3, 4, 5, 3, 5],\n",
       "           [4, 8, 9, 9, 6]],\n",
       "\n",
       "          [[9, 8, 4, 8, 2],\n",
       "           [6, 3, 3, 6, 0],\n",
       "           [6, 0, 6, 2, 2],\n",
       "           [4, 2, 8, 8, 0]]]]]])"
      ]
     },
     "execution_count": 17,
     "metadata": {},
     "output_type": "execute_result"
    }
   ],
   "source": [
    "k4 = np.random.randint(10, size = (4,3,2,2,4,5))\n",
    "k4"
   ]
  },
  {
   "cell_type": "markdown",
   "metadata": {},
   "source": [
    "#### Indexing in Numpy - Accessing Array Elements"
   ]
  },
  {
   "cell_type": "code",
   "execution_count": 22,
   "metadata": {},
   "outputs": [
    {
     "data": {
      "text/plain": [
       "3"
      ]
     },
     "execution_count": 22,
     "metadata": {},
     "output_type": "execute_result"
    }
   ],
   "source": [
    "A1 = np.array([1,2,3,4,5])\n",
    "A1[-3]\n",
    "# print(\"1st Element in Array A1 : \",A1[0])\n",
    "# print(\"\\n5th Element in Array A1 : \",A1[4])\n",
    "# print(\"\\nLast Element in Array A1 : \",A1[-1])   #Negative Indexing"
   ]
  },
  {
   "cell_type": "markdown",
   "metadata": {},
   "source": [
    "#### Array Slicing - Selecting elements from one index to another index"
   ]
  },
  {
   "cell_type": "code",
   "execution_count": 23,
   "metadata": {},
   "outputs": [
    {
     "name": "stdout",
     "output_type": "stream",
     "text": [
      "Slice First Five Values : [1 2 3 4 5]\n"
     ]
    }
   ],
   "source": [
    "A1 = np.array([1,2,3,4,5,6,7,8,9,10])\n",
    "\n",
    "A1[0:5] #[start index:end index]\n",
    "\n",
    "# Kindly Note that it does not return A1[5] i.e Value(6) in the sliced Array."
   ]
  },
  {
   "cell_type": "code",
   "execution_count": null,
   "metadata": {},
   "outputs": [],
   "source": [
    "#Negative Slicing\n",
    "print(\"Slice Last Five Values :\", A1[-4:-1])"
   ]
  },
  {
   "cell_type": "code",
   "execution_count": null,
   "metadata": {},
   "outputs": [],
   "source": [
    "#Adding Step in Slicing\n",
    "print(\"Return every 2nd element from 1 to 9 : \", A1[1:9:2])\n",
    "\n",
    "# print(\"Return every 3nd element from 1 to 9 : \", A1[1:9:3])"
   ]
  },
  {
   "cell_type": "markdown",
   "metadata": {},
   "source": [
    "#### Reshaping An Array"
   ]
  },
  {
   "cell_type": "code",
   "execution_count": null,
   "metadata": {},
   "outputs": [],
   "source": [
    "Arr = np.array([1, 2, 3, 4, 5, 6, 7, 8, 9, 10, 11, 12, 13, 14, 15, 16])\n",
    "\n",
    "new_Arr1 = Arr.reshape(4, 4)\n",
    "\n",
    "print(new_Arr1)"
   ]
  },
  {
   "cell_type": "code",
   "execution_count": null,
   "metadata": {},
   "outputs": [],
   "source": [
    "new_Arr2 = Arr.reshape(2, 2, 4)\n",
    "\n",
    "print(new_Arr2)"
   ]
  },
  {
   "cell_type": "markdown",
   "metadata": {},
   "source": [
    "#### Joining 1D Arrays In Numpy"
   ]
  },
  {
   "cell_type": "code",
   "execution_count": null,
   "metadata": {},
   "outputs": [],
   "source": [
    "A1 = np.array([1, 2, 3])\n",
    "\n",
    "A2 = np.array([4, 5, 6])"
   ]
  },
  {
   "cell_type": "code",
   "execution_count": null,
   "metadata": {},
   "outputs": [],
   "source": [
    "Arr = np.concatenate((A1, A2))\n",
    "\n",
    "print(Arr)"
   ]
  },
  {
   "cell_type": "markdown",
   "metadata": {},
   "source": [
    "#### Joining 2D Arrays In Numpy"
   ]
  },
  {
   "cell_type": "code",
   "execution_count": null,
   "metadata": {},
   "outputs": [],
   "source": [
    "A1 = np.array([[1, 2], [3, 4]])\n",
    "\n",
    "A2 = np.array([[5, 6], [7, 8]])"
   ]
  },
  {
   "cell_type": "markdown",
   "metadata": {},
   "source": [
    "## ufuncs(Universal Functions)"
   ]
  },
  {
   "cell_type": "markdown",
   "metadata": {},
   "source": [
    "## Aggregations : Min , Max "
   ]
  },
  {
   "cell_type": "markdown",
   "metadata": {},
   "source": [
    "## Broadcasting : Computation On Arrays"
   ]
  },
  {
   "cell_type": "markdown",
   "metadata": {},
   "source": [
    "## Boolean logic And Comparisons"
   ]
  },
  {
   "cell_type": "markdown",
   "metadata": {},
   "source": [
    "## Sorting Numpy Arrays"
   ]
  },
  {
   "cell_type": "markdown",
   "metadata": {},
   "source": [
    "## Structured Array"
   ]
  },
  {
   "cell_type": "code",
   "execution_count": null,
   "metadata": {},
   "outputs": [],
   "source": []
  }
 ],
 "metadata": {
  "kernelspec": {
   "display_name": "Python 3",
   "language": "python",
   "name": "python3"
  },
  "language_info": {
   "codemirror_mode": {
    "name": "ipython",
    "version": 3
   },
   "file_extension": ".py",
   "mimetype": "text/x-python",
   "name": "python",
   "nbconvert_exporter": "python",
   "pygments_lexer": "ipython3",
   "version": "3.7.6"
  }
 },
 "nbformat": 4,
 "nbformat_minor": 4
}
