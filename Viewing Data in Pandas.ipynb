{
 "cells": [
  {
   "cell_type": "code",
   "execution_count": 10,
   "metadata": {},
   "outputs": [],
   "source": [
    "import numpy as np\n",
    "import pandas as pd"
   ]
  },
  {
   "cell_type": "markdown",
   "metadata": {},
   "source": [
    "## Create DataFrame"
   ]
  },
  {
   "cell_type": "code",
   "execution_count": 11,
   "metadata": {},
   "outputs": [
    {
     "data": {
      "text/plain": [
       "DatetimeIndex(['2018-01-15', '2018-01-16', '2018-01-17', '2018-01-18',\n",
       "               '2018-01-19', '2018-01-20'],\n",
       "              dtype='datetime64[ns]', freq='D')"
      ]
     },
     "execution_count": 11,
     "metadata": {},
     "output_type": "execute_result"
    }
   ],
   "source": [
    "dates = pd.date_range(start='1/15/2018', end='1/20/2018')\n",
    "dates"
   ]
  },
  {
   "cell_type": "code",
   "execution_count": 13,
   "metadata": {},
   "outputs": [
    {
     "data": {
      "text/html": [
       "<div>\n",
       "<style scoped>\n",
       "    .dataframe tbody tr th:only-of-type {\n",
       "        vertical-align: middle;\n",
       "    }\n",
       "\n",
       "    .dataframe tbody tr th {\n",
       "        vertical-align: top;\n",
       "    }\n",
       "\n",
       "    .dataframe thead th {\n",
       "        text-align: right;\n",
       "    }\n",
       "</style>\n",
       "<table border=\"1\" class=\"dataframe\">\n",
       "  <thead>\n",
       "    <tr style=\"text-align: right;\">\n",
       "      <th></th>\n",
       "      <th>A</th>\n",
       "      <th>B</th>\n",
       "      <th>C</th>\n",
       "      <th>D</th>\n",
       "    </tr>\n",
       "  </thead>\n",
       "  <tbody>\n",
       "    <tr>\n",
       "      <th>2018-01-15</th>\n",
       "      <td>-1.789462</td>\n",
       "      <td>0.443659</td>\n",
       "      <td>1.967998</td>\n",
       "      <td>1.123774</td>\n",
       "    </tr>\n",
       "    <tr>\n",
       "      <th>2018-01-16</th>\n",
       "      <td>0.574325</td>\n",
       "      <td>0.937311</td>\n",
       "      <td>0.779259</td>\n",
       "      <td>1.331050</td>\n",
       "    </tr>\n",
       "    <tr>\n",
       "      <th>2018-01-17</th>\n",
       "      <td>-0.290803</td>\n",
       "      <td>0.702300</td>\n",
       "      <td>0.139990</td>\n",
       "      <td>1.285626</td>\n",
       "    </tr>\n",
       "    <tr>\n",
       "      <th>2018-01-18</th>\n",
       "      <td>-1.700929</td>\n",
       "      <td>-0.076160</td>\n",
       "      <td>-0.865286</td>\n",
       "      <td>0.287714</td>\n",
       "    </tr>\n",
       "    <tr>\n",
       "      <th>2018-01-19</th>\n",
       "      <td>-1.013225</td>\n",
       "      <td>0.394309</td>\n",
       "      <td>0.189200</td>\n",
       "      <td>0.294861</td>\n",
       "    </tr>\n",
       "    <tr>\n",
       "      <th>2018-01-20</th>\n",
       "      <td>-0.994313</td>\n",
       "      <td>1.269359</td>\n",
       "      <td>0.221089</td>\n",
       "      <td>-0.611700</td>\n",
       "    </tr>\n",
       "  </tbody>\n",
       "</table>\n",
       "</div>"
      ],
      "text/plain": [
       "                   A         B         C         D\n",
       "2018-01-15 -1.789462  0.443659  1.967998  1.123774\n",
       "2018-01-16  0.574325  0.937311  0.779259  1.331050\n",
       "2018-01-17 -0.290803  0.702300  0.139990  1.285626\n",
       "2018-01-18 -1.700929 -0.076160 -0.865286  0.287714\n",
       "2018-01-19 -1.013225  0.394309  0.189200  0.294861\n",
       "2018-01-20 -0.994313  1.269359  0.221089 -0.611700"
      ]
     },
     "execution_count": 13,
     "metadata": {},
     "output_type": "execute_result"
    }
   ],
   "source": [
    "df = pd.DataFrame(np.random.randn(6, 4), index=dates, columns=list(\"ABCD\"))\n",
    "df"
   ]
  },
  {
   "cell_type": "markdown",
   "metadata": {},
   "source": [
    "## Viewing Data\n",
    "\n",
    "To view the top and bottom rows of the frame:"
   ]
  },
  {
   "cell_type": "code",
   "execution_count": 36,
   "metadata": {},
   "outputs": [
    {
     "data": {
      "text/html": [
       "<div>\n",
       "<style scoped>\n",
       "    .dataframe tbody tr th:only-of-type {\n",
       "        vertical-align: middle;\n",
       "    }\n",
       "\n",
       "    .dataframe tbody tr th {\n",
       "        vertical-align: top;\n",
       "    }\n",
       "\n",
       "    .dataframe thead th {\n",
       "        text-align: right;\n",
       "    }\n",
       "</style>\n",
       "<table border=\"1\" class=\"dataframe\">\n",
       "  <thead>\n",
       "    <tr style=\"text-align: right;\">\n",
       "      <th></th>\n",
       "      <th>A</th>\n",
       "      <th>B</th>\n",
       "      <th>C</th>\n",
       "      <th>D</th>\n",
       "    </tr>\n",
       "  </thead>\n",
       "  <tbody>\n",
       "    <tr>\n",
       "      <th>2018-01-15</th>\n",
       "      <td>-1.789462</td>\n",
       "      <td>0.443659</td>\n",
       "      <td>1.967998</td>\n",
       "      <td>1.123774</td>\n",
       "    </tr>\n",
       "    <tr>\n",
       "      <th>2018-01-16</th>\n",
       "      <td>0.574325</td>\n",
       "      <td>0.937311</td>\n",
       "      <td>0.779259</td>\n",
       "      <td>1.331050</td>\n",
       "    </tr>\n",
       "    <tr>\n",
       "      <th>2018-01-17</th>\n",
       "      <td>-0.290803</td>\n",
       "      <td>0.702300</td>\n",
       "      <td>0.139990</td>\n",
       "      <td>1.285626</td>\n",
       "    </tr>\n",
       "  </tbody>\n",
       "</table>\n",
       "</div>"
      ],
      "text/plain": [
       "                   A         B         C         D\n",
       "2018-01-15 -1.789462  0.443659  1.967998  1.123774\n",
       "2018-01-16  0.574325  0.937311  0.779259  1.331050\n",
       "2018-01-17 -0.290803  0.702300  0.139990  1.285626"
      ]
     },
     "execution_count": 36,
     "metadata": {},
     "output_type": "execute_result"
    }
   ],
   "source": [
    "df.head(3)"
   ]
  },
  {
   "cell_type": "code",
   "execution_count": 18,
   "metadata": {},
   "outputs": [
    {
     "data": {
      "text/html": [
       "<div>\n",
       "<style scoped>\n",
       "    .dataframe tbody tr th:only-of-type {\n",
       "        vertical-align: middle;\n",
       "    }\n",
       "\n",
       "    .dataframe tbody tr th {\n",
       "        vertical-align: top;\n",
       "    }\n",
       "\n",
       "    .dataframe thead th {\n",
       "        text-align: right;\n",
       "    }\n",
       "</style>\n",
       "<table border=\"1\" class=\"dataframe\">\n",
       "  <thead>\n",
       "    <tr style=\"text-align: right;\">\n",
       "      <th></th>\n",
       "      <th>A</th>\n",
       "      <th>B</th>\n",
       "      <th>C</th>\n",
       "      <th>D</th>\n",
       "    </tr>\n",
       "  </thead>\n",
       "  <tbody>\n",
       "    <tr>\n",
       "      <th>2018-01-18</th>\n",
       "      <td>-1.700929</td>\n",
       "      <td>-0.076160</td>\n",
       "      <td>-0.865286</td>\n",
       "      <td>0.287714</td>\n",
       "    </tr>\n",
       "    <tr>\n",
       "      <th>2018-01-19</th>\n",
       "      <td>-1.013225</td>\n",
       "      <td>0.394309</td>\n",
       "      <td>0.189200</td>\n",
       "      <td>0.294861</td>\n",
       "    </tr>\n",
       "    <tr>\n",
       "      <th>2018-01-20</th>\n",
       "      <td>-0.994313</td>\n",
       "      <td>1.269359</td>\n",
       "      <td>0.221089</td>\n",
       "      <td>-0.611700</td>\n",
       "    </tr>\n",
       "  </tbody>\n",
       "</table>\n",
       "</div>"
      ],
      "text/plain": [
       "                   A         B         C         D\n",
       "2018-01-18 -1.700929 -0.076160 -0.865286  0.287714\n",
       "2018-01-19 -1.013225  0.394309  0.189200  0.294861\n",
       "2018-01-20 -0.994313  1.269359  0.221089 -0.611700"
      ]
     },
     "execution_count": 18,
     "metadata": {},
     "output_type": "execute_result"
    }
   ],
   "source": [
    "df.tail(3)"
   ]
  },
  {
   "cell_type": "markdown",
   "metadata": {},
   "source": [
    "**Display the index, columns:**"
   ]
  },
  {
   "cell_type": "code",
   "execution_count": 20,
   "metadata": {},
   "outputs": [
    {
     "data": {
      "text/plain": [
       "(DatetimeIndex(['2018-01-15', '2018-01-16', '2018-01-17', '2018-01-18',\n",
       "                '2018-01-19', '2018-01-20'],\n",
       "               dtype='datetime64[ns]', freq='D'),\n",
       " Index(['A', 'B', 'C', 'D'], dtype='object'))"
      ]
     },
     "execution_count": 20,
     "metadata": {},
     "output_type": "execute_result"
    }
   ],
   "source": [
    "df.index, df.columns"
   ]
  },
  {
   "cell_type": "markdown",
   "metadata": {},
   "source": [
    "**Quick statistic summary of your data:**"
   ]
  },
  {
   "cell_type": "code",
   "execution_count": 33,
   "metadata": {},
   "outputs": [
    {
     "data": {
      "text/html": [
       "<div>\n",
       "<style scoped>\n",
       "    .dataframe tbody tr th:only-of-type {\n",
       "        vertical-align: middle;\n",
       "    }\n",
       "\n",
       "    .dataframe tbody tr th {\n",
       "        vertical-align: top;\n",
       "    }\n",
       "\n",
       "    .dataframe thead th {\n",
       "        text-align: right;\n",
       "    }\n",
       "</style>\n",
       "<table border=\"1\" class=\"dataframe\">\n",
       "  <thead>\n",
       "    <tr style=\"text-align: right;\">\n",
       "      <th></th>\n",
       "      <th>A</th>\n",
       "      <th>B</th>\n",
       "      <th>C</th>\n",
       "      <th>D</th>\n",
       "    </tr>\n",
       "  </thead>\n",
       "  <tbody>\n",
       "    <tr>\n",
       "      <th>count</th>\n",
       "      <td>6.000000</td>\n",
       "      <td>6.000000</td>\n",
       "      <td>6.000000</td>\n",
       "      <td>6.000000</td>\n",
       "    </tr>\n",
       "    <tr>\n",
       "      <th>mean</th>\n",
       "      <td>-0.869068</td>\n",
       "      <td>0.611796</td>\n",
       "      <td>0.405375</td>\n",
       "      <td>0.618554</td>\n",
       "    </tr>\n",
       "    <tr>\n",
       "      <th>std</th>\n",
       "      <td>0.893684</td>\n",
       "      <td>0.468059</td>\n",
       "      <td>0.932446</td>\n",
       "      <td>0.766243</td>\n",
       "    </tr>\n",
       "    <tr>\n",
       "      <th>min</th>\n",
       "      <td>-1.789462</td>\n",
       "      <td>-0.076160</td>\n",
       "      <td>-0.865286</td>\n",
       "      <td>-0.611700</td>\n",
       "    </tr>\n",
       "    <tr>\n",
       "      <th>25%</th>\n",
       "      <td>-1.529003</td>\n",
       "      <td>0.406646</td>\n",
       "      <td>0.152293</td>\n",
       "      <td>0.289501</td>\n",
       "    </tr>\n",
       "    <tr>\n",
       "      <th>50%</th>\n",
       "      <td>-1.003769</td>\n",
       "      <td>0.572980</td>\n",
       "      <td>0.205144</td>\n",
       "      <td>0.709318</td>\n",
       "    </tr>\n",
       "    <tr>\n",
       "      <th>75%</th>\n",
       "      <td>-0.466681</td>\n",
       "      <td>0.878558</td>\n",
       "      <td>0.639716</td>\n",
       "      <td>1.245163</td>\n",
       "    </tr>\n",
       "    <tr>\n",
       "      <th>max</th>\n",
       "      <td>0.574325</td>\n",
       "      <td>1.269359</td>\n",
       "      <td>1.967998</td>\n",
       "      <td>1.331050</td>\n",
       "    </tr>\n",
       "  </tbody>\n",
       "</table>\n",
       "</div>"
      ],
      "text/plain": [
       "              A         B         C         D\n",
       "count  6.000000  6.000000  6.000000  6.000000\n",
       "mean  -0.869068  0.611796  0.405375  0.618554\n",
       "std    0.893684  0.468059  0.932446  0.766243\n",
       "min   -1.789462 -0.076160 -0.865286 -0.611700\n",
       "25%   -1.529003  0.406646  0.152293  0.289501\n",
       "50%   -1.003769  0.572980  0.205144  0.709318\n",
       "75%   -0.466681  0.878558  0.639716  1.245163\n",
       "max    0.574325  1.269359  1.967998  1.331050"
      ]
     },
     "execution_count": 33,
     "metadata": {},
     "output_type": "execute_result"
    }
   ],
   "source": [
    "df.describe()"
   ]
  },
  {
   "cell_type": "markdown",
   "metadata": {},
   "source": [
    "**Transposing your data:**"
   ]
  },
  {
   "cell_type": "code",
   "execution_count": 22,
   "metadata": {},
   "outputs": [
    {
     "data": {
      "text/html": [
       "<div>\n",
       "<style scoped>\n",
       "    .dataframe tbody tr th:only-of-type {\n",
       "        vertical-align: middle;\n",
       "    }\n",
       "\n",
       "    .dataframe tbody tr th {\n",
       "        vertical-align: top;\n",
       "    }\n",
       "\n",
       "    .dataframe thead th {\n",
       "        text-align: right;\n",
       "    }\n",
       "</style>\n",
       "<table border=\"1\" class=\"dataframe\">\n",
       "  <thead>\n",
       "    <tr style=\"text-align: right;\">\n",
       "      <th></th>\n",
       "      <th>2018-01-15</th>\n",
       "      <th>2018-01-16</th>\n",
       "      <th>2018-01-17</th>\n",
       "      <th>2018-01-18</th>\n",
       "      <th>2018-01-19</th>\n",
       "      <th>2018-01-20</th>\n",
       "    </tr>\n",
       "  </thead>\n",
       "  <tbody>\n",
       "    <tr>\n",
       "      <th>A</th>\n",
       "      <td>-1.789462</td>\n",
       "      <td>0.574325</td>\n",
       "      <td>-0.290803</td>\n",
       "      <td>-1.700929</td>\n",
       "      <td>-1.013225</td>\n",
       "      <td>-0.994313</td>\n",
       "    </tr>\n",
       "    <tr>\n",
       "      <th>B</th>\n",
       "      <td>0.443659</td>\n",
       "      <td>0.937311</td>\n",
       "      <td>0.702300</td>\n",
       "      <td>-0.076160</td>\n",
       "      <td>0.394309</td>\n",
       "      <td>1.269359</td>\n",
       "    </tr>\n",
       "    <tr>\n",
       "      <th>C</th>\n",
       "      <td>1.967998</td>\n",
       "      <td>0.779259</td>\n",
       "      <td>0.139990</td>\n",
       "      <td>-0.865286</td>\n",
       "      <td>0.189200</td>\n",
       "      <td>0.221089</td>\n",
       "    </tr>\n",
       "    <tr>\n",
       "      <th>D</th>\n",
       "      <td>1.123774</td>\n",
       "      <td>1.331050</td>\n",
       "      <td>1.285626</td>\n",
       "      <td>0.287714</td>\n",
       "      <td>0.294861</td>\n",
       "      <td>-0.611700</td>\n",
       "    </tr>\n",
       "  </tbody>\n",
       "</table>\n",
       "</div>"
      ],
      "text/plain": [
       "   2018-01-15  2018-01-16  2018-01-17  2018-01-18  2018-01-19  2018-01-20\n",
       "A   -1.789462    0.574325   -0.290803   -1.700929   -1.013225   -0.994313\n",
       "B    0.443659    0.937311    0.702300   -0.076160    0.394309    1.269359\n",
       "C    1.967998    0.779259    0.139990   -0.865286    0.189200    0.221089\n",
       "D    1.123774    1.331050    1.285626    0.287714    0.294861   -0.611700"
      ]
     },
     "execution_count": 22,
     "metadata": {},
     "output_type": "execute_result"
    }
   ],
   "source": [
    "df.T"
   ]
  },
  {
   "cell_type": "markdown",
   "metadata": {},
   "source": [
    "**Concise summary of a DataFrame**"
   ]
  },
  {
   "cell_type": "code",
   "execution_count": 27,
   "metadata": {},
   "outputs": [
    {
     "name": "stdout",
     "output_type": "stream",
     "text": [
      "<class 'pandas.core.frame.DataFrame'>\n",
      "DatetimeIndex: 6 entries, 2018-01-15 to 2018-01-20\n",
      "Freq: D\n",
      "Data columns (total 4 columns):\n",
      " #   Column  Non-Null Count  Dtype  \n",
      "---  ------  --------------  -----  \n",
      " 0   A       6 non-null      float64\n",
      " 1   B       6 non-null      float64\n",
      " 2   C       6 non-null      float64\n",
      " 3   D       6 non-null      float64\n",
      "dtypes: float64(4)\n",
      "memory usage: 240.0 bytes\n"
     ]
    }
   ],
   "source": [
    "df.info()"
   ]
  }
 ],
 "metadata": {
  "kernelspec": {
   "display_name": "Python 3",
   "language": "python",
   "name": "python3"
  },
  "language_info": {
   "codemirror_mode": {
    "name": "ipython",
    "version": 3
   },
   "file_extension": ".py",
   "mimetype": "text/x-python",
   "name": "python",
   "nbconvert_exporter": "python",
   "pygments_lexer": "ipython3",
   "version": "3.7.9"
  }
 },
 "nbformat": 4,
 "nbformat_minor": 4
}
